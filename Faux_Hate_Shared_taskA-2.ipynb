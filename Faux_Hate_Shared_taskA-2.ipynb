{
  "cells": [
    {
      "cell_type": "code",
      "execution_count": null,
      "metadata": {
        "id": "6I0X9zmADFOI"
      },
      "outputs": [],
      "source": [
        "import os\n",
        "import re\n",
        "import pandas as pd\n",
        "from google.colab import drive\n",
        "drive.mount('/content/drive')\n",
        "#drive.mount('/gdrive')"
      ]
    },
    {
      "cell_type": "code",
      "execution_count": null,
      "metadata": {
        "id": "tz3Gan_EDmiL"
      },
      "outputs": [],
      "source": [
        "import re\n",
        "def text_cleaner(text):\n",
        "    # Check if text is a string before applying lower()\n",
        "    if isinstance(text, str):\n",
        "        #converting to lowercase\n",
        "        newString = text.lower()\n",
        "        #removing links\n",
        "        newString = re.sub(r'(https|http)?:\\/\\/(\\w|\\.|\\/|\\?|\\=|\\&|\\%)*\\b', '', newString)\n",
        "        #fetching alphabetic characters\n",
        "        newString = re.sub('[^a-zA-Z#@]', ' ', newString)\n",
        "        return newString\n",
        "    else:\n",
        "        # Handle non-string values (e.g., return empty string or original value)\n",
        "        return str(text)  # Or return '' if you want to ignore non-string values"
      ]
    },
    {
      "cell_type": "code",
      "execution_count": null,
      "metadata": {
        "id": "BX5__wsiDuF1"
      },
      "outputs": [],
      "source": [
        "train_a = pd.read_excel('/content/drive/MyDrive/Colab Notebooks/shared_task/Train_Task_A.xlsx')  # Use read_excel for .xlsx files\n",
        "#train_b  = pd.read_excel('/content/drive/MyDrive/Colab Notebooks/shared_task/Train_Task_B.xlsx')  # Use read_excel for .xlsx files\n",
        "val_a = pd.read_excel('/content/drive/MyDrive/Colab Notebooks/shared_task/Val_Task_A.xlsx')  # Use read_excel for .xlsx files\n",
        "test_a = pd.read_excel('/content/drive/MyDrive/Colab Notebooks/shared_task/Test_Task_A.xlsx')  # Use read_excel for .xlsx files"
      ]
    },
    {
      "cell_type": "code",
      "execution_count": null,
      "metadata": {
        "id": "ceMVzzilPpZJ",
        "colab": {
          "base_uri": "https://localhost:8080/"
        },
        "outputId": "e2d5d600-3c69-42b4-dabf-0e448455d1e9"
      },
      "outputs": [
        {
          "output_type": "stream",
          "name": "stdout",
          "text": [
            "Train set size: 6396\n",
            "Validation set size: 800\n",
            "test set size: 800\n"
          ]
        }
      ],
      "source": [
        "train_a['Tweet'] = train_a['Tweet'].apply(text_cleaner)\n",
        "#train_b['Tweet'] = train_b['Tweet'].apply(text_cleaner)\n",
        "val_a['Tweet'] = val_a['Tweet'].apply(text_cleaner)\n",
        "test_a['Tweet'] = test_a['Tweet'].apply(text_cleaner)\n",
        "#val_b['Tweet'] = val_b['Tweet'].apply(text_cleaner)\n",
        "#val_b\n",
        "# Verify the sizes of the splits\n",
        "print(f\"Train set size: {len(train_a)}\")\n",
        "print(f\"Validation set size: {len(val_a)}\")\n",
        "print(f\"test set size: {len(test_a)}\")\n",
        "\n"
      ]
    },
    {
      "cell_type": "code",
      "source": [
        "import pandas as pd\n",
        "\n",
        "# Assume train_set is a DataFrame with columns ['Hate', 'Fake']\n",
        "label_counts = train_a[['Hate', 'Fake']].apply(pd.Series.value_counts)\n",
        "print(label_counts)\n"
      ],
      "metadata": {
        "colab": {
          "base_uri": "https://localhost:8080/"
        },
        "id": "2kW9_6CMSf8j",
        "outputId": "4e745652-558a-4e77-c621-a16d359b7f23"
      },
      "execution_count": null,
      "outputs": [
        {
          "output_type": "stream",
          "name": "stdout",
          "text": [
            "   Hate  Fake\n",
            "1  4101  3286\n",
            "0  2295  3110\n"
          ]
        }
      ]
    },
    {
      "cell_type": "code",
      "source": [
        "\n",
        "# Assume train_set is a DataFrame with columns ['Hate', 'Fake']\n",
        "label_counts = val_a[['Hate', 'Fake']].apply(pd.Series.value_counts)\n",
        "print(label_counts)"
      ],
      "metadata": {
        "colab": {
          "base_uri": "https://localhost:8080/"
        },
        "id": "gb4lQw2QZkFw",
        "outputId": "4971658d-05c3-48ac-c80b-ed07e6e1b794"
      },
      "execution_count": null,
      "outputs": [
        {
          "output_type": "stream",
          "name": "stdout",
          "text": [
            "   Hate  Fake\n",
            "1   513   423\n",
            "0   287   377\n"
          ]
        }
      ]
    },
    {
      "cell_type": "code",
      "source": [
        "# Assume train_set is a DataFrame with columns ['Hate', 'Fake']\n",
        "label_counts = test_a[['Hate', 'Fake']].apply(pd.Series.value_counts)\n",
        "print(label_counts)"
      ],
      "metadata": {
        "colab": {
          "base_uri": "https://localhost:8080/"
        },
        "id": "kzeWA8-9lZMp",
        "outputId": "40b59add-33b6-43e6-ec6d-c3fd42d9d613"
      },
      "execution_count": null,
      "outputs": [
        {
          "output_type": "stream",
          "name": "stdout",
          "text": [
            "   Hate  Fake\n",
            "1   513   417\n",
            "0   287   383\n"
          ]
        }
      ]
    },
    {
      "cell_type": "code",
      "execution_count": null,
      "metadata": {
        "colab": {
          "base_uri": "https://localhost:8080/"
        },
        "id": "2bz9NEavR68M",
        "outputId": "890f6722-782c-49c8-f6b7-0d25029b34e6"
      },
      "outputs": [
        {
          "output_type": "stream",
          "name": "stdout",
          "text": [
            "Collecting datasets\n",
            "  Downloading datasets-3.1.0-py3-none-any.whl.metadata (20 kB)\n",
            "Requirement already satisfied: filelock in /usr/local/lib/python3.10/dist-packages (from datasets) (3.16.1)\n",
            "Requirement already satisfied: numpy>=1.17 in /usr/local/lib/python3.10/dist-packages (from datasets) (1.26.4)\n",
            "Requirement already satisfied: pyarrow>=15.0.0 in /usr/local/lib/python3.10/dist-packages (from datasets) (17.0.0)\n",
            "Collecting dill<0.3.9,>=0.3.0 (from datasets)\n",
            "  Downloading dill-0.3.8-py3-none-any.whl.metadata (10 kB)\n",
            "Requirement already satisfied: pandas in /usr/local/lib/python3.10/dist-packages (from datasets) (2.2.2)\n",
            "Requirement already satisfied: requests>=2.32.2 in /usr/local/lib/python3.10/dist-packages (from datasets) (2.32.3)\n",
            "Requirement already satisfied: tqdm>=4.66.3 in /usr/local/lib/python3.10/dist-packages (from datasets) (4.66.6)\n",
            "Collecting xxhash (from datasets)\n",
            "  Downloading xxhash-3.5.0-cp310-cp310-manylinux_2_17_x86_64.manylinux2014_x86_64.whl.metadata (12 kB)\n",
            "Collecting multiprocess<0.70.17 (from datasets)\n",
            "  Downloading multiprocess-0.70.16-py310-none-any.whl.metadata (7.2 kB)\n",
            "Collecting fsspec<=2024.9.0,>=2023.1.0 (from fsspec[http]<=2024.9.0,>=2023.1.0->datasets)\n",
            "  Downloading fsspec-2024.9.0-py3-none-any.whl.metadata (11 kB)\n",
            "Requirement already satisfied: aiohttp in /usr/local/lib/python3.10/dist-packages (from datasets) (3.11.2)\n",
            "Requirement already satisfied: huggingface-hub>=0.23.0 in /usr/local/lib/python3.10/dist-packages (from datasets) (0.26.2)\n",
            "Requirement already satisfied: packaging in /usr/local/lib/python3.10/dist-packages (from datasets) (24.2)\n",
            "Requirement already satisfied: pyyaml>=5.1 in /usr/local/lib/python3.10/dist-packages (from datasets) (6.0.2)\n",
            "Requirement already satisfied: aiohappyeyeballs>=2.3.0 in /usr/local/lib/python3.10/dist-packages (from aiohttp->datasets) (2.4.3)\n",
            "Requirement already satisfied: aiosignal>=1.1.2 in /usr/local/lib/python3.10/dist-packages (from aiohttp->datasets) (1.3.1)\n",
            "Requirement already satisfied: attrs>=17.3.0 in /usr/local/lib/python3.10/dist-packages (from aiohttp->datasets) (24.2.0)\n",
            "Requirement already satisfied: frozenlist>=1.1.1 in /usr/local/lib/python3.10/dist-packages (from aiohttp->datasets) (1.5.0)\n",
            "Requirement already satisfied: multidict<7.0,>=4.5 in /usr/local/lib/python3.10/dist-packages (from aiohttp->datasets) (6.1.0)\n",
            "Requirement already satisfied: propcache>=0.2.0 in /usr/local/lib/python3.10/dist-packages (from aiohttp->datasets) (0.2.0)\n",
            "Requirement already satisfied: yarl<2.0,>=1.17.0 in /usr/local/lib/python3.10/dist-packages (from aiohttp->datasets) (1.17.2)\n",
            "Requirement already satisfied: async-timeout<6.0,>=4.0 in /usr/local/lib/python3.10/dist-packages (from aiohttp->datasets) (4.0.3)\n",
            "Requirement already satisfied: typing-extensions>=3.7.4.3 in /usr/local/lib/python3.10/dist-packages (from huggingface-hub>=0.23.0->datasets) (4.12.2)\n",
            "Requirement already satisfied: charset-normalizer<4,>=2 in /usr/local/lib/python3.10/dist-packages (from requests>=2.32.2->datasets) (3.4.0)\n",
            "Requirement already satisfied: idna<4,>=2.5 in /usr/local/lib/python3.10/dist-packages (from requests>=2.32.2->datasets) (3.10)\n",
            "Requirement already satisfied: urllib3<3,>=1.21.1 in /usr/local/lib/python3.10/dist-packages (from requests>=2.32.2->datasets) (2.2.3)\n",
            "Requirement already satisfied: certifi>=2017.4.17 in /usr/local/lib/python3.10/dist-packages (from requests>=2.32.2->datasets) (2024.8.30)\n",
            "Requirement already satisfied: python-dateutil>=2.8.2 in /usr/local/lib/python3.10/dist-packages (from pandas->datasets) (2.8.2)\n",
            "Requirement already satisfied: pytz>=2020.1 in /usr/local/lib/python3.10/dist-packages (from pandas->datasets) (2024.2)\n",
            "Requirement already satisfied: tzdata>=2022.7 in /usr/local/lib/python3.10/dist-packages (from pandas->datasets) (2024.2)\n",
            "Requirement already satisfied: six>=1.5 in /usr/local/lib/python3.10/dist-packages (from python-dateutil>=2.8.2->pandas->datasets) (1.16.0)\n",
            "Downloading datasets-3.1.0-py3-none-any.whl (480 kB)\n",
            "\u001b[2K   \u001b[90m━━━━━━━━━━━━━━━━━━━━━━━━━━━━━━━━━━━━━━━━\u001b[0m \u001b[32m480.6/480.6 kB\u001b[0m \u001b[31m14.2 MB/s\u001b[0m eta \u001b[36m0:00:00\u001b[0m\n",
            "\u001b[?25hDownloading dill-0.3.8-py3-none-any.whl (116 kB)\n",
            "\u001b[2K   \u001b[90m━━━━━━━━━━━━━━━━━━━━━━━━━━━━━━━━━━━━━━━━\u001b[0m \u001b[32m116.3/116.3 kB\u001b[0m \u001b[31m11.8 MB/s\u001b[0m eta \u001b[36m0:00:00\u001b[0m\n",
            "\u001b[?25hDownloading fsspec-2024.9.0-py3-none-any.whl (179 kB)\n",
            "\u001b[2K   \u001b[90m━━━━━━━━━━━━━━━━━━━━━━━━━━━━━━━━━━━━━━━━\u001b[0m \u001b[32m179.3/179.3 kB\u001b[0m \u001b[31m18.1 MB/s\u001b[0m eta \u001b[36m0:00:00\u001b[0m\n",
            "\u001b[?25hDownloading multiprocess-0.70.16-py310-none-any.whl (134 kB)\n",
            "\u001b[2K   \u001b[90m━━━━━━━━━━━━━━━━━━━━━━━━━━━━━━━━━━━━━━━━\u001b[0m \u001b[32m134.8/134.8 kB\u001b[0m \u001b[31m13.3 MB/s\u001b[0m eta \u001b[36m0:00:00\u001b[0m\n",
            "\u001b[?25hDownloading xxhash-3.5.0-cp310-cp310-manylinux_2_17_x86_64.manylinux2014_x86_64.whl (194 kB)\n",
            "\u001b[2K   \u001b[90m━━━━━━━━━━━━━━━━━━━━━━━━━━━━━━━━━━━━━━━━\u001b[0m \u001b[32m194.1/194.1 kB\u001b[0m \u001b[31m20.0 MB/s\u001b[0m eta \u001b[36m0:00:00\u001b[0m\n",
            "\u001b[?25hInstalling collected packages: xxhash, fsspec, dill, multiprocess, datasets\n",
            "  Attempting uninstall: fsspec\n",
            "    Found existing installation: fsspec 2024.10.0\n",
            "    Uninstalling fsspec-2024.10.0:\n",
            "      Successfully uninstalled fsspec-2024.10.0\n",
            "\u001b[31mERROR: pip's dependency resolver does not currently take into account all the packages that are installed. This behaviour is the source of the following dependency conflicts.\n",
            "gcsfs 2024.10.0 requires fsspec==2024.10.0, but you have fsspec 2024.9.0 which is incompatible.\u001b[0m\u001b[31m\n",
            "\u001b[0mSuccessfully installed datasets-3.1.0 dill-0.3.8 fsspec-2024.9.0 multiprocess-0.70.16 xxhash-3.5.0\n"
          ]
        }
      ],
      "source": [
        "!pip install datasets"
      ]
    },
    {
      "cell_type": "code",
      "source": [
        "from transformers import AutoTokenizer, AutoModelForSequenceClassification, Trainer, TrainingArguments, DataCollatorWithPadding\n",
        "import torch\n",
        "from datasets import Dataset\n",
        "import pandas as pd\n",
        "from sklearn.metrics import classification_report\n",
        "from sklearn.utils.class_weight import compute_class_weight\n",
        "import numpy as np\n",
        "\n",
        "# Load the pre-trained tokenizer (HingRoBERTa)\n",
        "model_name = 'l3cube-pune/hing-roberta'  # Replace with desired model\n",
        "tokenizer = AutoTokenizer.from_pretrained(model_name)\n",
        "\n",
        "# Load Task A data\n",
        "# Assuming data is already loaded as `train_set` and `val_set`\n",
        "\n",
        "# Extract relevant columns\n",
        "train_texts = train_a['Tweet'].tolist()\n",
        "train_labels = train_a[['Hate', 'Fake']].values.tolist()  # Multi-label binary targets\n",
        "test_texts = val_a['Tweet'].tolist()\n",
        "test_labels = val_a[['Hate', 'Fake']].values.tolist()\n",
        "\n",
        "# Compute class weights\n",
        "class_weights = {}\n",
        "for i, label_name in enumerate(['Hate', 'Fake']):\n",
        "    class_weights[label_name] = compute_class_weight(\n",
        "        class_weight=\"balanced\",\n",
        "        classes=np.array([0, 1]),\n",
        "        y=[label[i] for label in train_labels]\n",
        "    )\n",
        "\n",
        "# Convert weights to tensor for PyTorch\n",
        "hate_class_weights = torch.tensor(class_weights['Hate'], dtype=torch.float)\n",
        "fake_class_weights = torch.tensor(class_weights['Fake'], dtype=torch.float)\n",
        "\n",
        "# Custom loss with class weights\n",
        "class MultiLabelTrainer(Trainer):\n",
        "  def compute_loss(self, model, inputs, return_outputs=False, **kwargs): # **kwargs added here\n",
        "        labels = inputs.pop('labels')  # Extract labels\n",
        "        outputs = model(**inputs)  # Forward pass\n",
        "        logits = outputs.logits\n",
        "        # Binary Cross-Entropy Loss with class weights\n",
        "        # Move pos_weight to the same device as logits\n",
        "        pos_weight = torch.tensor([hate_class_weights[1], fake_class_weights[1]]).to(logits.device)\n",
        "        loss_fct = torch.nn.BCEWithLogitsLoss(pos_weight=pos_weight)\n",
        "        loss = loss_fct(logits, labels.float())\n",
        "        return (loss, outputs) if return_outputs else loss\n",
        "# Convert to Hugging Face Dataset\n",
        "train_data = Dataset.from_dict({'text': train_texts, 'labels': train_labels})\n",
        "test_data = Dataset.from_dict({'text': test_texts, 'labels': test_labels})\n",
        "\n",
        "# Tokenize the data\n",
        "def tokenize_function(examples):\n",
        "    return tokenizer(examples['text'], truncation=True, padding='max_length')\n",
        "\n",
        "train_data = train_data.map(tokenize_function, batched=True)\n",
        "test_data = test_data.map(tokenize_function, batched=True)\n",
        "\n",
        "# Load pre-trained model with custom output layer\n",
        "num_labels = 2  # Two labels (Hate and Fake)\n",
        "model = AutoModelForSequenceClassification.from_pretrained(model_name, num_labels=num_labels)\n",
        "\n",
        "# Define training arguments\n",
        "training_args = TrainingArguments(\n",
        "    output_dir='./results',\n",
        "    num_train_epochs=2,\n",
        "    per_device_train_batch_size=16,\n",
        "    per_device_eval_batch_size=32,\n",
        "    evaluation_strategy=\"epoch\",\n",
        "    save_strategy=\"epoch\",\n",
        "    learning_rate=5e-5,\n",
        "    weight_decay=0.01,\n",
        "    logging_dir='./logs',\n",
        "    logging_steps=50,\n",
        "    fp16=True,\n",
        ")\n",
        "\n",
        "# Initialize Trainer with MultiLabelTrainer\n",
        "trainer = MultiLabelTrainer(\n",
        "    model=model,\n",
        "    args=training_args,\n",
        "    train_dataset=train_data,\n",
        "    eval_dataset=test_data,\n",
        "    tokenizer=tokenizer,\n",
        "    data_collator=DataCollatorWithPadding(tokenizer=tokenizer)\n",
        ")\n",
        "\n",
        "# Fine-tune the model\n",
        "trainer.train()\n",
        "\n",
        "# Evaluate the model\n",
        "predictions = trainer.predict(test_data)\n",
        "predicted_logits = predictions.predictions\n",
        "predicted_probs = torch.sigmoid(torch.tensor(predicted_logits)).numpy()  # Convert logits to probabilities\n",
        "predicted_labels = (predicted_probs > 0.5).astype(int)  # Threshold at 0.5\n",
        "\n",
        "# Print classification metrics\n",
        "print(\"Classification Report:\")\n",
        "for i, label_name in enumerate(['Hate', 'Fake']):\n",
        "    print(f\"\\nMetrics for {label_name}:\")\n",
        "    print(classification_report(\n",
        "        [label[i] for label in test_labels],\n",
        "        [pred[i] for pred in predicted_labels]\n",
        "    ))\n",
        "\n",
        "# Save results for analysis\n",
        "results_df = pd.DataFrame({\n",
        "    \"Id\": val_a['Id'],\n",
        "    \"Tweet\": val_a['Tweet'],\n",
        "    \"Actual_Hate\": [label[0] for label in test_labels],\n",
        "    \"Actual_Fake\": [label[1] for label in test_labels],\n",
        "    \"Predicted_Hate\": [pred[0] for pred in predicted_labels],\n",
        "    \"Predicted_Fake\": [pred[1] for pred in predicted_labels]\n",
        "})\n",
        "results_df.to_excel(\"/content/drive/MyDrive/Colab Notebooks/shared_task/task_a_val_predictions.xlsx\", index=False)\n"
      ],
      "metadata": {
        "id": "nEgxbxbuGBHj"
      },
      "execution_count": null,
      "outputs": []
    },
    {
      "cell_type": "code",
      "source": [
        "import pandas as pd\n",
        "import torch\n",
        "from sklearn.metrics import classification_report\n",
        "\n",
        "test_texts1 = test_a['Tweet'].astype(str).tolist()  # Convert all elements to strings\n",
        "test_labels1 = test_a[['Hate', 'Fake']].values.tolist()\n",
        "data1 = Dataset.from_dict({'text': test_texts1, 'labels': test_labels1})\n",
        "\n",
        "# Tokenize the data1 dataset\n",
        "def tokenize_function(examples):\n",
        "    return tokenizer(examples['text'], truncation=True, padding='max_length')\n",
        "\n",
        "data1 = data1.map(tokenize_function, batched=True)\n",
        "\n",
        "# Predict on the test set\n",
        "predictions = trainer.predict(data1)\n",
        "\n",
        "# Convert logits to probabilities\n",
        "predicted_logits = predictions.predictions\n",
        "predicted_probs = torch.sigmoid(torch.tensor(predicted_logits)).numpy()  # Convert logits to probabilities\n",
        "predicted_labels1 = (predicted_probs > 0.5).astype(int)  # Apply threshold of 0.5 to get final labels\n",
        "\n",
        "# Prepare the results to save\n",
        "# Use val_a['Tweet'] instead of val_set['Tweet'] for consistency in length\n",
        "results_df = pd.DataFrame({\n",
        "    \"Id\": test_a['Id'],  # Assuming the 'Id' column is present in val_set\n",
        "    \"Tweet\": test_a['Tweet'], # Use val_a['Tweet'] for consistency\n",
        "    \"Actual_Hate\": [label[0] for label in test_labels1],\n",
        "    \"Actual_Fake\": [label[1] for label in test_labels1],\n",
        "    \"Predicted_Hate\": [pred[0] for pred in predicted_labels1],\n",
        "    \"Predicted_Fake\": [pred[1] for pred in predicted_labels1]\n",
        "})\n",
        "\n",
        "# Save results to a CSV file\n",
        "results_df.to_csv(\"/content/drive/MyDrive/Colab Notebooks/task_a_test_predictions.csv\", index=False)\n",
        "\n",
        "# Print some of the results for verification\n",
        "print(results_df.head())"
      ],
      "metadata": {
        "id": "ZXOsZeshIxU0"
      },
      "execution_count": null,
      "outputs": []
    },
    {
      "cell_type": "code",
      "source": [
        "from sklearn.metrics import classification_report\n",
        "\n",
        "# Generate classification report for Hate predictions\n",
        "print(\"Classification Report for Hate Predictions:\")\n",
        "print(classification_report(results_df['Actual_Hate'], results_df['Predicted_Hate'], target_names=[\"Not Hate\", \"Hate\"]))\n",
        "\n",
        "# Generate classification report for Fake predictions\n",
        "print(\"Classification Report for Fake Predictions:\")\n",
        "print(classification_report(results_df['Actual_Fake'], results_df['Predicted_Fake'], target_names=[\"Real\", \"Fake\"]))"
      ],
      "metadata": {
        "id": "2nNSXn3LXZJt"
      },
      "execution_count": null,
      "outputs": []
    },
    {
      "cell_type": "code",
      "source": [
        "import seaborn as sns\n",
        "import matplotlib.pyplot as plt\n",
        "from sklearn.metrics import confusion_matrix\n",
        "\n",
        "# Generate confusion matrix for Hate predictions\n",
        "hate_cm = confusion_matrix(results_df['Actual_Hate'], results_df['Predicted_Hate'])\n",
        "fake_cm = confusion_matrix(results_df['Actual_Fake'], results_df['Predicted_Fake'])\n",
        "\n",
        "# Function to plot confusion matrix\n",
        "def plot_confusion_matrix(cm, labels, title):\n",
        "    plt.figure(figsize=(6, 5))\n",
        "    sns.heatmap(cm, annot=True, fmt=\"d\", cmap=\"Blues\", xticklabels=labels, yticklabels=labels)\n",
        "    plt.xlabel(\"Predicted\")\n",
        "    plt.ylabel(\"Actual\")\n",
        "    plt.title(title)\n",
        "    plt.show()\n",
        "\n",
        "# Plot Hate confusion matrix\n",
        "plot_confusion_matrix(hate_cm, labels=[\"Not Hate\", \"Hate\"], title=\"Confusion Matrix for Hate Prediction\")\n",
        "\n",
        "# Plot Fake confusion matrix\n",
        "plot_confusion_matrix(fake_cm, labels=[\"Real\", \"Fake\"], title=\"Confusion Matrix for Fake Prediction\")\n"
      ],
      "metadata": {
        "id": "yeD2SgtdT7EU"
      },
      "execution_count": null,
      "outputs": []
    },
    {
      "cell_type": "code",
      "source": [
        "import pandas as pd\n",
        "\n",
        "# Assuming the following are available:\n",
        "# `val_set`: Original test dataset with 'Id' and 'Tweet'.\n",
        "# `test_labels`: Actual labels as a list of [Hate, Fake].\n",
        "# `predicted_labels`: Predicted labels as a list of [Hate, Fake].\n",
        "\n",
        "# Convert predictions and actual labels to DataFrames\n",
        "results_df = pd.DataFrame({\n",
        "    \"Id\": val_a['Id'],\n",
        "    \"Tweet\": val_a['Tweet'],\n",
        "    \"Actual_Hate\": [label[0] for label in test_labels],\n",
        "    \"Actual_Fake\": [label[1] for label in test_labels],\n",
        "    \"Predicted_Hate\": [pred[0] for pred in predicted_labels],\n",
        "    \"Predicted_Fake\": [pred[1] for pred in predicted_labels]\n",
        "})\n",
        "\n",
        "# Identify misclassified examples\n",
        "misclassified_df = results_df[\n",
        "    (results_df[\"Actual_Hate\"] != results_df[\"Predicted_Hate\"]) |\n",
        "    (results_df[\"Actual_Fake\"] != results_df[\"Predicted_Fake\"])\n",
        "]\n",
        "\n",
        "# Save misclassified examples to a CSV\n",
        "output_path = \"/content/drive/MyDrive/Colab Notebooks/shared_task/val_misclassified_task_a.csv\"\n",
        "misclassified_df.to_csv(output_path, index=False)\n",
        "\n",
        "print(f\"Misclassified examples saved to: {output_path}\")\n"
      ],
      "metadata": {
        "colab": {
          "base_uri": "https://localhost:8080/"
        },
        "id": "mZWBDdQXcbzP",
        "outputId": "8a4c39eb-4f54-4d28-8271-1d231ad3ca8a"
      },
      "execution_count": null,
      "outputs": [
        {
          "output_type": "stream",
          "name": "stdout",
          "text": [
            "Misclassified examples saved to: /content/drive/MyDrive/Colab Notebooks/misclassified_task_a.csv\n"
          ]
        }
      ]
    },
    {
      "cell_type": "markdown",
      "metadata": {
        "id": "0AulczuqDcrw"
      },
      "source": []
    }
  ],
  "metadata": {
    "colab": {
      "provenance": []
    },
    "kernelspec": {
      "display_name": "Python 3",
      "name": "python3"
    },
    "language_info": {
      "name": "python"
    }
  },
  "nbformat": 4,
  "nbformat_minor": 0
}